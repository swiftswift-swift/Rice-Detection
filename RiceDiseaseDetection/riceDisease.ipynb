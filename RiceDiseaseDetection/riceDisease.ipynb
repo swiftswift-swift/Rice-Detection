{
 "cells": [
  {
   "cell_type": "code",
   "execution_count": 1,
   "id": "c5e1f16b-f36b-41a5-bb68-9ca29de4a0f4",
   "metadata": {},
   "outputs": [
    {
     "name": "stdout",
     "output_type": "stream",
     "text": [
      "WARNING:tensorflow:From C:\\Users\\Admin\\anaconda3\\envs\\network\\lib\\site-packages\\keras\\src\\losses.py:2976: The name tf.losses.sparse_softmax_cross_entropy is deprecated. Please use tf.compat.v1.losses.sparse_softmax_cross_entropy instead.\n",
      "\n"
     ]
    }
   ],
   "source": [
    "import numpy as np \n",
    "import cv2\n",
    "import tensorflow as tf\n",
    "from keras.models import model_from_json"
   ]
  },
  {
   "cell_type": "code",
   "execution_count": 2,
   "id": "d3e268fb-ce89-4735-98bb-4f26181e2a9c",
   "metadata": {},
   "outputs": [
    {
     "name": "stdout",
     "output_type": "stream",
     "text": [
      "WARNING:tensorflow:From C:\\Users\\Admin\\anaconda3\\envs\\network\\lib\\site-packages\\keras\\src\\backend.py:1398: The name tf.executing_eagerly_outside_functions is deprecated. Please use tf.compat.v1.executing_eagerly_outside_functions instead.\n",
      "\n",
      "WARNING:tensorflow:From C:\\Users\\Admin\\anaconda3\\envs\\network\\lib\\site-packages\\keras\\src\\layers\\pooling\\max_pooling2d.py:161: The name tf.nn.max_pool is deprecated. Please use tf.nn.max_pool2d instead.\n",
      "\n"
     ]
    }
   ],
   "source": [
    "Imagemodel = model_from_json(open(\"model_json.json\", \"r\").read())\n",
    "Imagemodel.load_weights('model.h5')"
   ]
  },
  {
   "cell_type": "code",
   "execution_count": 3,
   "id": "470861a5-4ba1-45e9-b8d0-d09988353719",
   "metadata": {},
   "outputs": [],
   "source": [
    "img=cv2.imread(\"sm.jpg\")"
   ]
  },
  {
   "cell_type": "code",
   "execution_count": 4,
   "id": "1f49fbe3-4532-419d-afa7-18bea78f6bf0",
   "metadata": {},
   "outputs": [],
   "source": [
    "\n",
    "resized_img = cv2.resize(img,(180,180))\n",
    "X=[]\n",
    "X.append(resized_img)\n",
    "X = np.array(X)"
   ]
  },
  {
   "cell_type": "code",
   "execution_count": 5,
   "id": "65542b79-d30d-4b4b-9e95-cc2029f55e46",
   "metadata": {},
   "outputs": [
    {
     "data": {
      "text/plain": [
       "(1, 180, 180, 3)"
      ]
     },
     "execution_count": 5,
     "metadata": {},
     "output_type": "execute_result"
    }
   ],
   "source": [
    "X.shape"
   ]
  },
  {
   "cell_type": "code",
   "execution_count": 6,
   "id": "c25355d4-4b42-4d12-b7fa-fe5706570910",
   "metadata": {},
   "outputs": [],
   "source": [
    "label_dict = labels_dict = {\n",
    "    0:'bacteria',\n",
    "    1:'brown',\n",
    "    2:'smut',\n",
    "   \n",
    "}"
   ]
  },
  {
   "cell_type": "code",
   "execution_count": 7,
   "id": "be02c752-af7f-4ac3-814b-2195cc5183e9",
   "metadata": {},
   "outputs": [
    {
     "name": "stdout",
     "output_type": "stream",
     "text": [
      "1/1 [==============================] - 0s 191ms/step\n"
     ]
    }
   ],
   "source": [
    "\n",
    "prediction = Imagemodel.predict(X)\n",
    "\n",
    "prediction = list(prediction[0])\n",
    "img_index = prediction.index(max(prediction))\n",
    "final_prediction=label_dict[img_index]"
   ]
  },
  {
   "cell_type": "code",
   "execution_count": 8,
   "id": "d7f8a28e-463f-4ece-a47e-e59be7bc1513",
   "metadata": {},
   "outputs": [
    {
     "name": "stdout",
     "output_type": "stream",
     "text": [
      "smut\n"
     ]
    }
   ],
   "source": [
    "print(final_prediction)"
   ]
  },
  {
   "cell_type": "code",
   "execution_count": null,
   "id": "4ed1376c-cdc7-4eac-82ae-7b95baa2593a",
   "metadata": {},
   "outputs": [],
   "source": []
  }
 ],
 "metadata": {
  "kernelspec": {
   "display_name": "Python 3 (ipykernel)",
   "language": "python",
   "name": "python3"
  },
  "language_info": {
   "codemirror_mode": {
    "name": "ipython",
    "version": 3
   },
   "file_extension": ".py",
   "mimetype": "text/x-python",
   "name": "python",
   "nbconvert_exporter": "python",
   "pygments_lexer": "ipython3",
   "version": "3.9.18"
  }
 },
 "nbformat": 4,
 "nbformat_minor": 5
}
